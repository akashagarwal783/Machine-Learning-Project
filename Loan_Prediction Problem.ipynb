{
 "cells": [
  {
   "cell_type": "code",
   "execution_count": 1,
   "id": "d47fbd75",
   "metadata": {},
   "outputs": [],
   "source": [
    "import numpy as np\n",
    "import matplotlib.pyplot as plt\n",
    "import pandas as pd\n",
    "import seaborn as sns\n",
    "import warnings\n",
    "warnings.filterwarnings('ignore')\n",
    "\n",
    "pd.set_option(\"display.max_colwidth\",200)"
   ]
  },
  {
   "cell_type": "code",
   "execution_count": 2,
   "id": "b5617abb",
   "metadata": {},
   "outputs": [],
   "source": [
    "df_train = pd.read_csv('train_loan.csv')\n",
    "df_test = pd.read_csv('test_loan.csv')"
   ]
  },
  {
   "cell_type": "code",
   "execution_count": 3,
   "id": "d3127ba1",
   "metadata": {
    "scrolled": true
   },
   "outputs": [
    {
     "data": {
      "text/html": [
       "<div>\n",
       "<style scoped>\n",
       "    .dataframe tbody tr th:only-of-type {\n",
       "        vertical-align: middle;\n",
       "    }\n",
       "\n",
       "    .dataframe tbody tr th {\n",
       "        vertical-align: top;\n",
       "    }\n",
       "\n",
       "    .dataframe thead th {\n",
       "        text-align: right;\n",
       "    }\n",
       "</style>\n",
       "<table border=\"1\" class=\"dataframe\">\n",
       "  <thead>\n",
       "    <tr style=\"text-align: right;\">\n",
       "      <th></th>\n",
       "      <th>Loan_ID</th>\n",
       "      <th>Gender</th>\n",
       "      <th>Married</th>\n",
       "      <th>Dependents</th>\n",
       "      <th>Education</th>\n",
       "      <th>Self_Employed</th>\n",
       "      <th>ApplicantIncome</th>\n",
       "      <th>CoapplicantIncome</th>\n",
       "      <th>LoanAmount</th>\n",
       "      <th>Loan_Amount_Term</th>\n",
       "      <th>Credit_History</th>\n",
       "      <th>Property_Area</th>\n",
       "      <th>Loan_Status</th>\n",
       "    </tr>\n",
       "  </thead>\n",
       "  <tbody>\n",
       "    <tr>\n",
       "      <th>0</th>\n",
       "      <td>LP001002</td>\n",
       "      <td>Male</td>\n",
       "      <td>No</td>\n",
       "      <td>0</td>\n",
       "      <td>Graduate</td>\n",
       "      <td>No</td>\n",
       "      <td>5849</td>\n",
       "      <td>0.0</td>\n",
       "      <td>NaN</td>\n",
       "      <td>360.0</td>\n",
       "      <td>1.0</td>\n",
       "      <td>Urban</td>\n",
       "      <td>Y</td>\n",
       "    </tr>\n",
       "    <tr>\n",
       "      <th>1</th>\n",
       "      <td>LP001003</td>\n",
       "      <td>Male</td>\n",
       "      <td>Yes</td>\n",
       "      <td>1</td>\n",
       "      <td>Graduate</td>\n",
       "      <td>No</td>\n",
       "      <td>4583</td>\n",
       "      <td>1508.0</td>\n",
       "      <td>128.0</td>\n",
       "      <td>360.0</td>\n",
       "      <td>1.0</td>\n",
       "      <td>Rural</td>\n",
       "      <td>N</td>\n",
       "    </tr>\n",
       "    <tr>\n",
       "      <th>2</th>\n",
       "      <td>LP001005</td>\n",
       "      <td>Male</td>\n",
       "      <td>Yes</td>\n",
       "      <td>0</td>\n",
       "      <td>Graduate</td>\n",
       "      <td>Yes</td>\n",
       "      <td>3000</td>\n",
       "      <td>0.0</td>\n",
       "      <td>66.0</td>\n",
       "      <td>360.0</td>\n",
       "      <td>1.0</td>\n",
       "      <td>Urban</td>\n",
       "      <td>Y</td>\n",
       "    </tr>\n",
       "    <tr>\n",
       "      <th>3</th>\n",
       "      <td>LP001006</td>\n",
       "      <td>Male</td>\n",
       "      <td>Yes</td>\n",
       "      <td>0</td>\n",
       "      <td>Not Graduate</td>\n",
       "      <td>No</td>\n",
       "      <td>2583</td>\n",
       "      <td>2358.0</td>\n",
       "      <td>120.0</td>\n",
       "      <td>360.0</td>\n",
       "      <td>1.0</td>\n",
       "      <td>Urban</td>\n",
       "      <td>Y</td>\n",
       "    </tr>\n",
       "    <tr>\n",
       "      <th>4</th>\n",
       "      <td>LP001008</td>\n",
       "      <td>Male</td>\n",
       "      <td>No</td>\n",
       "      <td>0</td>\n",
       "      <td>Graduate</td>\n",
       "      <td>No</td>\n",
       "      <td>6000</td>\n",
       "      <td>0.0</td>\n",
       "      <td>141.0</td>\n",
       "      <td>360.0</td>\n",
       "      <td>1.0</td>\n",
       "      <td>Urban</td>\n",
       "      <td>Y</td>\n",
       "    </tr>\n",
       "  </tbody>\n",
       "</table>\n",
       "</div>"
      ],
      "text/plain": [
       "    Loan_ID Gender Married Dependents     Education Self_Employed  \\\n",
       "0  LP001002   Male      No          0      Graduate            No   \n",
       "1  LP001003   Male     Yes          1      Graduate            No   \n",
       "2  LP001005   Male     Yes          0      Graduate           Yes   \n",
       "3  LP001006   Male     Yes          0  Not Graduate            No   \n",
       "4  LP001008   Male      No          0      Graduate            No   \n",
       "\n",
       "   ApplicantIncome  CoapplicantIncome  LoanAmount  Loan_Amount_Term  \\\n",
       "0             5849                0.0         NaN             360.0   \n",
       "1             4583             1508.0       128.0             360.0   \n",
       "2             3000                0.0        66.0             360.0   \n",
       "3             2583             2358.0       120.0             360.0   \n",
       "4             6000                0.0       141.0             360.0   \n",
       "\n",
       "   Credit_History Property_Area Loan_Status  \n",
       "0             1.0         Urban           Y  \n",
       "1             1.0         Rural           N  \n",
       "2             1.0         Urban           Y  \n",
       "3             1.0         Urban           Y  \n",
       "4             1.0         Urban           Y  "
      ]
     },
     "execution_count": 3,
     "metadata": {},
     "output_type": "execute_result"
    }
   ],
   "source": [
    "df_train.head()"
   ]
  },
  {
   "cell_type": "code",
   "execution_count": 4,
   "id": "77e6c06e",
   "metadata": {},
   "outputs": [
    {
     "data": {
      "text/html": [
       "<div>\n",
       "<style scoped>\n",
       "    .dataframe tbody tr th:only-of-type {\n",
       "        vertical-align: middle;\n",
       "    }\n",
       "\n",
       "    .dataframe tbody tr th {\n",
       "        vertical-align: top;\n",
       "    }\n",
       "\n",
       "    .dataframe thead th {\n",
       "        text-align: right;\n",
       "    }\n",
       "</style>\n",
       "<table border=\"1\" class=\"dataframe\">\n",
       "  <thead>\n",
       "    <tr style=\"text-align: right;\">\n",
       "      <th></th>\n",
       "      <th>ApplicantIncome</th>\n",
       "      <th>CoapplicantIncome</th>\n",
       "      <th>LoanAmount</th>\n",
       "      <th>Loan_Amount_Term</th>\n",
       "      <th>Credit_History</th>\n",
       "    </tr>\n",
       "  </thead>\n",
       "  <tbody>\n",
       "    <tr>\n",
       "      <th>count</th>\n",
       "      <td>614.000000</td>\n",
       "      <td>614.000000</td>\n",
       "      <td>592.000000</td>\n",
       "      <td>600.00000</td>\n",
       "      <td>564.000000</td>\n",
       "    </tr>\n",
       "    <tr>\n",
       "      <th>mean</th>\n",
       "      <td>5403.459283</td>\n",
       "      <td>1621.245798</td>\n",
       "      <td>146.412162</td>\n",
       "      <td>342.00000</td>\n",
       "      <td>0.842199</td>\n",
       "    </tr>\n",
       "    <tr>\n",
       "      <th>std</th>\n",
       "      <td>6109.041673</td>\n",
       "      <td>2926.248369</td>\n",
       "      <td>85.587325</td>\n",
       "      <td>65.12041</td>\n",
       "      <td>0.364878</td>\n",
       "    </tr>\n",
       "    <tr>\n",
       "      <th>min</th>\n",
       "      <td>150.000000</td>\n",
       "      <td>0.000000</td>\n",
       "      <td>9.000000</td>\n",
       "      <td>12.00000</td>\n",
       "      <td>0.000000</td>\n",
       "    </tr>\n",
       "    <tr>\n",
       "      <th>25%</th>\n",
       "      <td>2877.500000</td>\n",
       "      <td>0.000000</td>\n",
       "      <td>100.000000</td>\n",
       "      <td>360.00000</td>\n",
       "      <td>1.000000</td>\n",
       "    </tr>\n",
       "    <tr>\n",
       "      <th>50%</th>\n",
       "      <td>3812.500000</td>\n",
       "      <td>1188.500000</td>\n",
       "      <td>128.000000</td>\n",
       "      <td>360.00000</td>\n",
       "      <td>1.000000</td>\n",
       "    </tr>\n",
       "    <tr>\n",
       "      <th>75%</th>\n",
       "      <td>5795.000000</td>\n",
       "      <td>2297.250000</td>\n",
       "      <td>168.000000</td>\n",
       "      <td>360.00000</td>\n",
       "      <td>1.000000</td>\n",
       "    </tr>\n",
       "    <tr>\n",
       "      <th>max</th>\n",
       "      <td>81000.000000</td>\n",
       "      <td>41667.000000</td>\n",
       "      <td>700.000000</td>\n",
       "      <td>480.00000</td>\n",
       "      <td>1.000000</td>\n",
       "    </tr>\n",
       "  </tbody>\n",
       "</table>\n",
       "</div>"
      ],
      "text/plain": [
       "       ApplicantIncome  CoapplicantIncome  LoanAmount  Loan_Amount_Term  \\\n",
       "count       614.000000         614.000000  592.000000         600.00000   \n",
       "mean       5403.459283        1621.245798  146.412162         342.00000   \n",
       "std        6109.041673        2926.248369   85.587325          65.12041   \n",
       "min         150.000000           0.000000    9.000000          12.00000   \n",
       "25%        2877.500000           0.000000  100.000000         360.00000   \n",
       "50%        3812.500000        1188.500000  128.000000         360.00000   \n",
       "75%        5795.000000        2297.250000  168.000000         360.00000   \n",
       "max       81000.000000       41667.000000  700.000000         480.00000   \n",
       "\n",
       "       Credit_History  \n",
       "count      564.000000  \n",
       "mean         0.842199  \n",
       "std          0.364878  \n",
       "min          0.000000  \n",
       "25%          1.000000  \n",
       "50%          1.000000  \n",
       "75%          1.000000  \n",
       "max          1.000000  "
      ]
     },
     "execution_count": 4,
     "metadata": {},
     "output_type": "execute_result"
    }
   ],
   "source": [
    "df_train.describe()"
   ]
  },
  {
   "cell_type": "code",
   "execution_count": 5,
   "id": "51a59aa5",
   "metadata": {},
   "outputs": [
    {
     "data": {
      "text/plain": [
       "360.0    512\n",
       "180.0     44\n",
       "480.0     15\n",
       "300.0     13\n",
       "84.0       4\n",
       "240.0      4\n",
       "120.0      3\n",
       "36.0       2\n",
       "60.0       2\n",
       "12.0       1\n",
       "Name: Loan_Amount_Term, dtype: int64"
      ]
     },
     "execution_count": 5,
     "metadata": {},
     "output_type": "execute_result"
    }
   ],
   "source": [
    "df_train['Loan_Amount_Term'].value_counts()"
   ]
  },
  {
   "cell_type": "code",
   "execution_count": 6,
   "id": "8ba390ff",
   "metadata": {},
   "outputs": [
    {
     "data": {
      "text/plain": [
       "<AxesSubplot:xlabel='Credit_History', ylabel='Loan_Amount_Term'>"
      ]
     },
     "execution_count": 6,
     "metadata": {},
     "output_type": "execute_result"
    },
    {
     "data": {
      "image/png": "[encoded data removed]",
      "text/plain": [
       "<Figure size 432x288 with 1 Axes>"
      ]
     },
     "metadata": {
      "needs_background": "light"
     },
     "output_type": "display_data"
    }
   ],
   "source": [
    "sns.scatterplot(y=df_train['Loan_Amount_Term'], x=df_train['Credit_History'])"
   ]
  },
  {
   "cell_type": "code",
   "execution_count": 7,
   "id": "4a55ac98",
   "metadata": {},
   "outputs": [
    {
     "data": {
      "text/plain": [
       "Credit_History\n",
       "0.0    341.927711\n",
       "1.0    342.192719\n",
       "Name: Loan_Amount_Term, dtype: float64"
      ]
     },
     "execution_count": 7,
     "metadata": {},
     "output_type": "execute_result"
    }
   ],
   "source": [
    "df_train.groupby('Credit_History')['Loan_Amount_Term'].mean()"
   ]
  },
  {
   "cell_type": "code",
   "execution_count": 8,
   "id": "b3839b79",
   "metadata": {
    "scrolled": true
   },
   "outputs": [
    {
     "data": {
      "text/plain": [
       "Loan_ID               0\n",
       "Gender               13\n",
       "Married               3\n",
       "Dependents           15\n",
       "Education             0\n",
       "Self_Employed        32\n",
       "ApplicantIncome       0\n",
       "CoapplicantIncome     0\n",
       "LoanAmount           22\n",
       "Loan_Amount_Term     14\n",
       "Credit_History       50\n",
       "Property_Area         0\n",
       "Loan_Status           0\n",
       "dtype: int64"
      ]
     },
     "execution_count": 8,
     "metadata": {},
     "output_type": "execute_result"
    }
   ],
   "source": [
    "df_train.isnull().sum()"
   ]
  },
  {
   "cell_type": "code",
   "execution_count": 9,
   "id": "0a35a2e5",
   "metadata": {},
   "outputs": [
    {
     "data": {
      "text/plain": [
       "Loan_ID               0\n",
       "Gender               11\n",
       "Married               0\n",
       "Dependents           10\n",
       "Education             0\n",
       "Self_Employed        23\n",
       "ApplicantIncome       0\n",
       "CoapplicantIncome     0\n",
       "LoanAmount            5\n",
       "Loan_Amount_Term      6\n",
       "Credit_History       29\n",
       "Property_Area         0\n",
       "dtype: int64"
      ]
     },
     "execution_count": 9,
     "metadata": {},
     "output_type": "execute_result"
    }
   ],
   "source": [
    "df_test.isnull().sum()"
   ]
  },
  {
   "cell_type": "code",
   "execution_count": 10,
   "id": "61448d1c",
   "metadata": {},
   "outputs": [
    {
     "name": "stdout",
     "output_type": "stream",
     "text": [
      "Male\n",
      "146.41216216216216\n"
     ]
    }
   ],
   "source": [
    "print(df_train['Gender'].mode()[0])\n",
    "print(df_train['LoanAmount'].mean())"
   ]
  },
  {
   "cell_type": "code",
   "execution_count": 11,
   "id": "bf0864e8",
   "metadata": {},
   "outputs": [],
   "source": [
    "df_train['Gender'] = df_train['Gender'].fillna(df_train['Gender'].mode()[0])\n",
    "df_train['Married'] = df_train['Married'].fillna(df_train['Married'].mode()[0])\n",
    "df_train['Dependents'] = df_train['Dependents'].fillna(df_train['Dependents'].mode()[0])\n",
    "df_train['Self_Employed'] = df_train['Self_Employed'].fillna(df_train['Self_Employed'].mode()[0])\n",
    "df_train['LoanAmount'] = df_train['LoanAmount'].fillna(df_train['LoanAmount'].mean())\n",
    "df_train['Loan_Amount_Term'] = df_train['Loan_Amount_Term'].fillna(df_train['Loan_Amount_Term'].mean())\n",
    "df_train['Credit_History'] = df_train['Credit_History'].fillna(df_train['Credit_History'].mode()[0])"
   ]
  },
  {
   "cell_type": "code",
   "execution_count": 12,
   "id": "921a0c3f",
   "metadata": {},
   "outputs": [],
   "source": [
    "df_test['Gender'] = df_test['Gender'].fillna(df_test['Gender'].mode()[0])\n",
    "df_test['Married'] = df_test['Married'].fillna(df_test['Married'].mode()[0])\n",
    "df_test['Dependents'] = df_test['Dependents'].fillna(df_test['Dependents'].mode()[0])\n",
    "df_test['Self_Employed'] = df_test['Self_Employed'].fillna(df_test['Self_Employed'].mode()[0])\n",
    "df_test['LoanAmount'] = df_test['LoanAmount'].fillna(df_test['LoanAmount'].mean())\n",
    "df_test['Loan_Amount_Term'] = df_test['Loan_Amount_Term'].fillna(df_test['Loan_Amount_Term'].mean())\n",
    "df_test['Credit_History'] = df_test['Credit_History'].fillna(df_test['Credit_History'].mode()[0])"
   ]
  },
  {
   "cell_type": "code",
   "execution_count": 13,
   "id": "88ed8c3a",
   "metadata": {},
   "outputs": [
    {
     "data": {
      "text/plain": [
       "<AxesSubplot:>"
      ]
     },
     "execution_count": 13,
     "metadata": {},
     "output_type": "execute_result"
    },
    {
     "data": {
      "image/png": "[encoded data removed]",
      "text/plain": [
       "<Figure size 432x288 with 1 Axes>"
      ]
     },
     "metadata": {
      "needs_background": "light"
     },
     "output_type": "display_data"
    }
   ],
   "source": [
    "df_train['Dependents'].hist()"
   ]
  },
  {
   "cell_type": "code",
   "execution_count": null,
   "id": "d45a71f9",
   "metadata": {},
   "outputs": [],
   "source": []
  },
  {
   "cell_type": "code",
   "execution_count": 14,
   "id": "a02dd0ad",
   "metadata": {},
   "outputs": [
    {
     "data": {
      "text/plain": [
       "Y    422\n",
       "N    192\n",
       "Name: Loan_Status, dtype: int64"
      ]
     },
     "execution_count": 14,
     "metadata": {},
     "output_type": "execute_result"
    }
   ],
   "source": [
    "df_train['Loan_Status'].value_counts()"
   ]
  },
  {
   "cell_type": "code",
   "execution_count": 15,
   "id": "7d01f893",
   "metadata": {},
   "outputs": [],
   "source": [
    "df_train['Total_Income'] = np.log(df_train['ApplicantIncome'] +df_train['CoapplicantIncome'])\n",
    "df_test['Total_Income'] = np.log(df_test['ApplicantIncome'] +df_test['CoapplicantIncome'])\n",
    "df_test['EMI'] = df_test['LoanAmount']/df_test['Loan_Amount_Term']\n",
    "df_train['EMI'] = df_train['LoanAmount']/df_train['Loan_Amount_Term']"
   ]
  },
  {
   "cell_type": "code",
   "execution_count": 16,
   "id": "c892756f",
   "metadata": {},
   "outputs": [],
   "source": [
    "df_train['Dependents'] = df_train['Dependents'].replace('3+',3)\n",
    "df_test['Dependents'] = df_test['Dependents'].replace('3+',3)"
   ]
  },
  {
   "cell_type": "code",
   "execution_count": 17,
   "id": "dbedf88a",
   "metadata": {},
   "outputs": [],
   "source": [
    "df_train['Dependents'] = df_train['Dependents'].astype(int)\n",
    "df_test['Dependents'] = df_test['Dependents'].astype(int)"
   ]
  },
  {
   "cell_type": "code",
   "execution_count": 18,
   "id": "ca7a53df",
   "metadata": {},
   "outputs": [],
   "source": [
    "from sklearn.preprocessing import LabelEncoder\n",
    "le = LabelEncoder()\n",
    "df_train['Loan_Status'] = le.fit_transform(df_train['Loan_Status'])"
   ]
  },
  {
   "cell_type": "code",
   "execution_count": 19,
   "id": "fbfa8379",
   "metadata": {},
   "outputs": [],
   "source": [
    "le1 = LabelEncoder()\n",
    "df_train['Property_Area'] = le1.fit_transform(df_train['Property_Area'])\n",
    "df_test['Property_Area'] = le1.transform(df_test['Property_Area'])"
   ]
  },
  {
   "cell_type": "code",
   "execution_count": 20,
   "id": "21e4b77f",
   "metadata": {},
   "outputs": [
    {
     "data": {
      "text/html": [
       "<div>\n",
       "<style scoped>\n",
       "    .dataframe tbody tr th:only-of-type {\n",
       "        vertical-align: middle;\n",
       "    }\n",
       "\n",
       "    .dataframe tbody tr th {\n",
       "        vertical-align: top;\n",
       "    }\n",
       "\n",
       "    .dataframe thead th {\n",
       "        text-align: right;\n",
       "    }\n",
       "</style>\n",
       "<table border=\"1\" class=\"dataframe\">\n",
       "  <thead>\n",
       "    <tr style=\"text-align: right;\">\n",
       "      <th></th>\n",
       "      <th>Loan_ID</th>\n",
       "      <th>Gender</th>\n",
       "      <th>Married</th>\n",
       "      <th>Dependents</th>\n",
       "      <th>Education</th>\n",
       "      <th>Self_Employed</th>\n",
       "      <th>ApplicantIncome</th>\n",
       "      <th>CoapplicantIncome</th>\n",
       "      <th>LoanAmount</th>\n",
       "      <th>Loan_Amount_Term</th>\n",
       "      <th>Credit_History</th>\n",
       "      <th>Property_Area</th>\n",
       "      <th>Loan_Status</th>\n",
       "      <th>Total_Income</th>\n",
       "      <th>EMI</th>\n",
       "    </tr>\n",
       "  </thead>\n",
       "  <tbody>\n",
       "    <tr>\n",
       "      <th>0</th>\n",
       "      <td>LP001002</td>\n",
       "      <td>Male</td>\n",
       "      <td>No</td>\n",
       "      <td>0</td>\n",
       "      <td>Graduate</td>\n",
       "      <td>No</td>\n",
       "      <td>5849</td>\n",
       "      <td>0.0</td>\n",
       "      <td>146.412162</td>\n",
       "      <td>360.0</td>\n",
       "      <td>1.0</td>\n",
       "      <td>2</td>\n",
       "      <td>1</td>\n",
       "      <td>8.674026</td>\n",
       "      <td>0.406700</td>\n",
       "    </tr>\n",
       "    <tr>\n",
       "      <th>1</th>\n",
       "      <td>LP001003</td>\n",
       "      <td>Male</td>\n",
       "      <td>Yes</td>\n",
       "      <td>1</td>\n",
       "      <td>Graduate</td>\n",
       "      <td>No</td>\n",
       "      <td>4583</td>\n",
       "      <td>1508.0</td>\n",
       "      <td>128.000000</td>\n",
       "      <td>360.0</td>\n",
       "      <td>1.0</td>\n",
       "      <td>0</td>\n",
       "      <td>0</td>\n",
       "      <td>8.714568</td>\n",
       "      <td>0.355556</td>\n",
       "    </tr>\n",
       "    <tr>\n",
       "      <th>2</th>\n",
       "      <td>LP001005</td>\n",
       "      <td>Male</td>\n",
       "      <td>Yes</td>\n",
       "      <td>0</td>\n",
       "      <td>Graduate</td>\n",
       "      <td>Yes</td>\n",
       "      <td>3000</td>\n",
       "      <td>0.0</td>\n",
       "      <td>66.000000</td>\n",
       "      <td>360.0</td>\n",
       "      <td>1.0</td>\n",
       "      <td>2</td>\n",
       "      <td>1</td>\n",
       "      <td>8.006368</td>\n",
       "      <td>0.183333</td>\n",
       "    </tr>\n",
       "    <tr>\n",
       "      <th>3</th>\n",
       "      <td>LP001006</td>\n",
       "      <td>Male</td>\n",
       "      <td>Yes</td>\n",
       "      <td>0</td>\n",
       "      <td>Not Graduate</td>\n",
       "      <td>No</td>\n",
       "      <td>2583</td>\n",
       "      <td>2358.0</td>\n",
       "      <td>120.000000</td>\n",
       "      <td>360.0</td>\n",
       "      <td>1.0</td>\n",
       "      <td>2</td>\n",
       "      <td>1</td>\n",
       "      <td>8.505323</td>\n",
       "      <td>0.333333</td>\n",
       "    </tr>\n",
       "    <tr>\n",
       "      <th>4</th>\n",
       "      <td>LP001008</td>\n",
       "      <td>Male</td>\n",
       "      <td>No</td>\n",
       "      <td>0</td>\n",
       "      <td>Graduate</td>\n",
       "      <td>No</td>\n",
       "      <td>6000</td>\n",
       "      <td>0.0</td>\n",
       "      <td>141.000000</td>\n",
       "      <td>360.0</td>\n",
       "      <td>1.0</td>\n",
       "      <td>2</td>\n",
       "      <td>1</td>\n",
       "      <td>8.699515</td>\n",
       "      <td>0.391667</td>\n",
       "    </tr>\n",
       "    <tr>\n",
       "      <th>5</th>\n",
       "      <td>LP001011</td>\n",
       "      <td>Male</td>\n",
       "      <td>Yes</td>\n",
       "      <td>2</td>\n",
       "      <td>Graduate</td>\n",
       "      <td>Yes</td>\n",
       "      <td>5417</td>\n",
       "      <td>4196.0</td>\n",
       "      <td>267.000000</td>\n",
       "      <td>360.0</td>\n",
       "      <td>1.0</td>\n",
       "      <td>2</td>\n",
       "      <td>1</td>\n",
       "      <td>9.170872</td>\n",
       "      <td>0.741667</td>\n",
       "    </tr>\n",
       "    <tr>\n",
       "      <th>6</th>\n",
       "      <td>LP001013</td>\n",
       "      <td>Male</td>\n",
       "      <td>Yes</td>\n",
       "      <td>0</td>\n",
       "      <td>Not Graduate</td>\n",
       "      <td>No</td>\n",
       "      <td>2333</td>\n",
       "      <td>1516.0</td>\n",
       "      <td>95.000000</td>\n",
       "      <td>360.0</td>\n",
       "      <td>1.0</td>\n",
       "      <td>2</td>\n",
       "      <td>1</td>\n",
       "      <td>8.255569</td>\n",
       "      <td>0.263889</td>\n",
       "    </tr>\n",
       "    <tr>\n",
       "      <th>7</th>\n",
       "      <td>LP001014</td>\n",
       "      <td>Male</td>\n",
       "      <td>Yes</td>\n",
       "      <td>3</td>\n",
       "      <td>Graduate</td>\n",
       "      <td>No</td>\n",
       "      <td>3036</td>\n",
       "      <td>2504.0</td>\n",
       "      <td>158.000000</td>\n",
       "      <td>360.0</td>\n",
       "      <td>0.0</td>\n",
       "      <td>1</td>\n",
       "      <td>0</td>\n",
       "      <td>8.619750</td>\n",
       "      <td>0.438889</td>\n",
       "    </tr>\n",
       "    <tr>\n",
       "      <th>8</th>\n",
       "      <td>LP001018</td>\n",
       "      <td>Male</td>\n",
       "      <td>Yes</td>\n",
       "      <td>2</td>\n",
       "      <td>Graduate</td>\n",
       "      <td>No</td>\n",
       "      <td>4006</td>\n",
       "      <td>1526.0</td>\n",
       "      <td>168.000000</td>\n",
       "      <td>360.0</td>\n",
       "      <td>1.0</td>\n",
       "      <td>2</td>\n",
       "      <td>1</td>\n",
       "      <td>8.618305</td>\n",
       "      <td>0.466667</td>\n",
       "    </tr>\n",
       "    <tr>\n",
       "      <th>9</th>\n",
       "      <td>LP001020</td>\n",
       "      <td>Male</td>\n",
       "      <td>Yes</td>\n",
       "      <td>1</td>\n",
       "      <td>Graduate</td>\n",
       "      <td>No</td>\n",
       "      <td>12841</td>\n",
       "      <td>10968.0</td>\n",
       "      <td>349.000000</td>\n",
       "      <td>360.0</td>\n",
       "      <td>1.0</td>\n",
       "      <td>1</td>\n",
       "      <td>0</td>\n",
       "      <td>10.077819</td>\n",
       "      <td>0.969444</td>\n",
       "    </tr>\n",
       "    <tr>\n",
       "      <th>10</th>\n",
       "      <td>LP001024</td>\n",
       "      <td>Male</td>\n",
       "      <td>Yes</td>\n",
       "      <td>2</td>\n",
       "      <td>Graduate</td>\n",
       "      <td>No</td>\n",
       "      <td>3200</td>\n",
       "      <td>700.0</td>\n",
       "      <td>70.000000</td>\n",
       "      <td>360.0</td>\n",
       "      <td>1.0</td>\n",
       "      <td>2</td>\n",
       "      <td>1</td>\n",
       "      <td>8.268732</td>\n",
       "      <td>0.194444</td>\n",
       "    </tr>\n",
       "    <tr>\n",
       "      <th>11</th>\n",
       "      <td>LP001027</td>\n",
       "      <td>Male</td>\n",
       "      <td>Yes</td>\n",
       "      <td>2</td>\n",
       "      <td>Graduate</td>\n",
       "      <td>No</td>\n",
       "      <td>2500</td>\n",
       "      <td>1840.0</td>\n",
       "      <td>109.000000</td>\n",
       "      <td>360.0</td>\n",
       "      <td>1.0</td>\n",
       "      <td>2</td>\n",
       "      <td>1</td>\n",
       "      <td>8.375630</td>\n",
       "      <td>0.302778</td>\n",
       "    </tr>\n",
       "    <tr>\n",
       "      <th>12</th>\n",
       "      <td>LP001028</td>\n",
       "      <td>Male</td>\n",
       "      <td>Yes</td>\n",
       "      <td>2</td>\n",
       "      <td>Graduate</td>\n",
       "      <td>No</td>\n",
       "      <td>3073</td>\n",
       "      <td>8106.0</td>\n",
       "      <td>200.000000</td>\n",
       "      <td>360.0</td>\n",
       "      <td>1.0</td>\n",
       "      <td>2</td>\n",
       "      <td>1</td>\n",
       "      <td>9.321792</td>\n",
       "      <td>0.555556</td>\n",
       "    </tr>\n",
       "    <tr>\n",
       "      <th>13</th>\n",
       "      <td>LP001029</td>\n",
       "      <td>Male</td>\n",
       "      <td>No</td>\n",
       "      <td>0</td>\n",
       "      <td>Graduate</td>\n",
       "      <td>No</td>\n",
       "      <td>1853</td>\n",
       "      <td>2840.0</td>\n",
       "      <td>114.000000</td>\n",
       "      <td>360.0</td>\n",
       "      <td>1.0</td>\n",
       "      <td>0</td>\n",
       "      <td>0</td>\n",
       "      <td>8.453827</td>\n",
       "      <td>0.316667</td>\n",
       "    </tr>\n",
       "    <tr>\n",
       "      <th>14</th>\n",
       "      <td>LP001030</td>\n",
       "      <td>Male</td>\n",
       "      <td>Yes</td>\n",
       "      <td>2</td>\n",
       "      <td>Graduate</td>\n",
       "      <td>No</td>\n",
       "      <td>1299</td>\n",
       "      <td>1086.0</td>\n",
       "      <td>17.000000</td>\n",
       "      <td>120.0</td>\n",
       "      <td>1.0</td>\n",
       "      <td>2</td>\n",
       "      <td>1</td>\n",
       "      <td>7.776954</td>\n",
       "      <td>0.141667</td>\n",
       "    </tr>\n",
       "  </tbody>\n",
       "</table>\n",
       "</div>"
      ],
      "text/plain": [
       "     Loan_ID Gender Married  Dependents     Education Self_Employed  \\\n",
       "0   LP001002   Male      No           0      Graduate            No   \n",
       "1   LP001003   Male     Yes           1      Graduate            No   \n",
       "2   LP001005   Male     Yes           0      Graduate           Yes   \n",
       "3   LP001006   Male     Yes           0  Not Graduate            No   \n",
       "4   LP001008   Male      No           0      Graduate            No   \n",
       "5   LP001011   Male     Yes           2      Graduate           Yes   \n",
       "6   LP001013   Male     Yes           0  Not Graduate            No   \n",
       "7   LP001014   Male     Yes           3      Graduate            No   \n",
       "8   LP001018   Male     Yes           2      Graduate            No   \n",
       "9   LP001020   Male     Yes           1      Graduate            No   \n",
       "10  LP001024   Male     Yes           2      Graduate            No   \n",
       "11  LP001027   Male     Yes           2      Graduate            No   \n",
       "12  LP001028   Male     Yes           2      Graduate            No   \n",
       "13  LP001029   Male      No           0      Graduate            No   \n",
       "14  LP001030   Male     Yes           2      Graduate            No   \n",
       "\n",
       "    ApplicantIncome  CoapplicantIncome  LoanAmount  Loan_Amount_Term  \\\n",
       "0              5849                0.0  146.412162             360.0   \n",
       "1              4583             1508.0  128.000000             360.0   \n",
       "2              3000                0.0   66.000000             360.0   \n",
       "3              2583             2358.0  120.000000             360.0   \n",
       "4              6000                0.0  141.000000             360.0   \n",
       "5              5417             4196.0  267.000000             360.0   \n",
       "6              2333             1516.0   95.000000             360.0   \n",
       "7              3036             2504.0  158.000000             360.0   \n",
       "8              4006             1526.0  168.000000             360.0   \n",
       "9             12841            10968.0  349.000000             360.0   \n",
       "10             3200              700.0   70.000000             360.0   \n",
       "11             2500             1840.0  109.000000             360.0   \n",
       "12             3073             8106.0  200.000000             360.0   \n",
       "13             1853             2840.0  114.000000             360.0   \n",
       "14             1299             1086.0   17.000000             120.0   \n",
       "\n",
       "    Credit_History  Property_Area  Loan_Status  Total_Income       EMI  \n",
       "0              1.0              2            1      8.674026  0.406700  \n",
       "1              1.0              0            0      8.714568  0.355556  \n",
       "2              1.0              2            1      8.006368  0.183333  \n",
       "3              1.0              2            1      8.505323  0.333333  \n",
       "4              1.0              2            1      8.699515  0.391667  \n",
       "5              1.0              2            1      9.170872  0.741667  \n",
       "6              1.0              2            1      8.255569  0.263889  \n",
       "7              0.0              1            0      8.619750  0.438889  \n",
       "8              1.0              2            1      8.618305  0.466667  \n",
       "9              1.0              1            0     10.077819  0.969444  \n",
       "10             1.0              2            1      8.268732  0.194444  \n",
       "11             1.0              2            1      8.375630  0.302778  \n",
       "12             1.0              2            1      9.321792  0.555556  \n",
       "13             1.0              0            0      8.453827  0.316667  \n",
       "14             1.0              2            1      7.776954  0.141667  "
      ]
     },
     "execution_count": 20,
     "metadata": {},
     "output_type": "execute_result"
    }
   ],
   "source": [
    "df_train.head(15)"
   ]
  },
  {
   "cell_type": "code",
   "execution_count": 21,
   "id": "032b0bbe",
   "metadata": {},
   "outputs": [
    {
     "name": "stdout",
     "output_type": "stream",
     "text": [
      "<class 'pandas.core.frame.DataFrame'>\n",
      "RangeIndex: 614 entries, 0 to 613\n",
      "Data columns (total 15 columns):\n",
      " #   Column             Non-Null Count  Dtype  \n",
      "---  ------             --------------  -----  \n",
      " 0   Loan_ID            614 non-null    object \n",
      " 1   Gender             614 non-null    object \n",
      " 2   Married            614 non-null    object \n",
      " 3   Dependents         614 non-null    int32  \n",
      " 4   Education          614 non-null    object \n",
      " 5   Self_Employed      614 non-null    object \n",
      " 6   ApplicantIncome    614 non-null    int64  \n",
      " 7   CoapplicantIncome  614 non-null    float64\n",
      " 8   LoanAmount         614 non-null    float64\n",
      " 9   Loan_Amount_Term   614 non-null    float64\n",
      " 10  Credit_History     614 non-null    float64\n",
      " 11  Property_Area      614 non-null    int32  \n",
      " 12  Loan_Status        614 non-null    int32  \n",
      " 13  Total_Income       614 non-null    float64\n",
      " 14  EMI                614 non-null    float64\n",
      "dtypes: float64(6), int32(3), int64(1), object(5)\n",
      "memory usage: 64.9+ KB\n"
     ]
    }
   ],
   "source": [
    "df_train.info()"
   ]
  },
  {
   "cell_type": "code",
   "execution_count": 22,
   "id": "f237d664",
   "metadata": {},
   "outputs": [],
   "source": [
    "cat_features=[i for i in df_train.columns if df_train.dtypes[i]=='object']"
   ]
  },
  {
   "cell_type": "code",
   "execution_count": 23,
   "id": "363204d0",
   "metadata": {},
   "outputs": [],
   "source": [
    "num_features=[i for i in df_train.columns if df_train.dtypes[i]!='object']"
   ]
  },
  {
   "cell_type": "code",
   "execution_count": 24,
   "id": "9f2b70f6",
   "metadata": {},
   "outputs": [
    {
     "data": {
      "text/plain": [
       "['Gender', 'Married', 'Education', 'Self_Employed']"
      ]
     },
     "execution_count": 24,
     "metadata": {},
     "output_type": "execute_result"
    }
   ],
   "source": [
    "cat_features = cat_features[1:]\n",
    "cat_features"
   ]
  },
  {
   "cell_type": "code",
   "execution_count": 25,
   "id": "416384b3",
   "metadata": {},
   "outputs": [
    {
     "data": {
      "text/plain": [
       "['Dependents',\n",
       " 'ApplicantIncome',\n",
       " 'CoapplicantIncome',\n",
       " 'LoanAmount',\n",
       " 'Loan_Amount_Term',\n",
       " 'Credit_History',\n",
       " 'Property_Area',\n",
       " 'Loan_Status',\n",
       " 'Total_Income',\n",
       " 'EMI']"
      ]
     },
     "execution_count": 25,
     "metadata": {},
     "output_type": "execute_result"
    }
   ],
   "source": [
    "num_features"
   ]
  },
  {
   "cell_type": "code",
   "execution_count": 26,
   "id": "0840fa53",
   "metadata": {},
   "outputs": [
    {
     "data": {
      "text/html": [
       "<div>\n",
       "<style scoped>\n",
       "    .dataframe tbody tr th:only-of-type {\n",
       "        vertical-align: middle;\n",
       "    }\n",
       "\n",
       "    .dataframe tbody tr th {\n",
       "        vertical-align: top;\n",
       "    }\n",
       "\n",
       "    .dataframe thead th {\n",
       "        text-align: right;\n",
       "    }\n",
       "</style>\n",
       "<table border=\"1\" class=\"dataframe\">\n",
       "  <thead>\n",
       "    <tr style=\"text-align: right;\">\n",
       "      <th></th>\n",
       "      <th>Dependents</th>\n",
       "      <th>ApplicantIncome</th>\n",
       "      <th>CoapplicantIncome</th>\n",
       "      <th>LoanAmount</th>\n",
       "      <th>Loan_Amount_Term</th>\n",
       "      <th>Credit_History</th>\n",
       "      <th>Property_Area</th>\n",
       "      <th>Loan_Status</th>\n",
       "      <th>Total_Income</th>\n",
       "      <th>EMI</th>\n",
       "    </tr>\n",
       "  </thead>\n",
       "  <tbody>\n",
       "    <tr>\n",
       "      <th>Dependents</th>\n",
       "      <td>1.000000</td>\n",
       "      <td>0.118202</td>\n",
       "      <td>0.030430</td>\n",
       "      <td>0.163106</td>\n",
       "      <td>-0.101054</td>\n",
       "      <td>-0.040160</td>\n",
       "      <td>-0.000244</td>\n",
       "      <td>0.010118</td>\n",
       "      <td>0.112812</td>\n",
       "      <td>0.103058</td>\n",
       "    </tr>\n",
       "    <tr>\n",
       "      <th>ApplicantIncome</th>\n",
       "      <td>0.118202</td>\n",
       "      <td>1.000000</td>\n",
       "      <td>-0.116605</td>\n",
       "      <td>0.565620</td>\n",
       "      <td>-0.045242</td>\n",
       "      <td>-0.018615</td>\n",
       "      <td>-0.009500</td>\n",
       "      <td>-0.004710</td>\n",
       "      <td>0.717829</td>\n",
       "      <td>0.320433</td>\n",
       "    </tr>\n",
       "    <tr>\n",
       "      <th>CoapplicantIncome</th>\n",
       "      <td>0.030430</td>\n",
       "      <td>-0.116605</td>\n",
       "      <td>1.000000</td>\n",
       "      <td>0.187828</td>\n",
       "      <td>-0.059675</td>\n",
       "      <td>0.011134</td>\n",
       "      <td>0.010522</td>\n",
       "      <td>-0.059187</td>\n",
       "      <td>0.383827</td>\n",
       "      <td>0.135761</td>\n",
       "    </tr>\n",
       "    <tr>\n",
       "      <th>LoanAmount</th>\n",
       "      <td>0.163106</td>\n",
       "      <td>0.565620</td>\n",
       "      <td>0.187828</td>\n",
       "      <td>1.000000</td>\n",
       "      <td>0.038801</td>\n",
       "      <td>-0.001431</td>\n",
       "      <td>-0.044776</td>\n",
       "      <td>-0.036416</td>\n",
       "      <td>0.687552</td>\n",
       "      <td>0.491172</td>\n",
       "    </tr>\n",
       "    <tr>\n",
       "      <th>Loan_Amount_Term</th>\n",
       "      <td>-0.101054</td>\n",
       "      <td>-0.045242</td>\n",
       "      <td>-0.059675</td>\n",
       "      <td>0.038801</td>\n",
       "      <td>1.000000</td>\n",
       "      <td>0.000432</td>\n",
       "      <td>-0.077620</td>\n",
       "      <td>-0.020974</td>\n",
       "      <td>-0.055320</td>\n",
       "      <td>-0.500000</td>\n",
       "    </tr>\n",
       "    <tr>\n",
       "      <th>Credit_History</th>\n",
       "      <td>-0.040160</td>\n",
       "      <td>-0.018615</td>\n",
       "      <td>0.011134</td>\n",
       "      <td>-0.001431</td>\n",
       "      <td>0.000432</td>\n",
       "      <td>1.000000</td>\n",
       "      <td>0.001963</td>\n",
       "      <td>0.540556</td>\n",
       "      <td>0.020791</td>\n",
       "      <td>0.014440</td>\n",
       "    </tr>\n",
       "    <tr>\n",
       "      <th>Property_Area</th>\n",
       "      <td>-0.000244</td>\n",
       "      <td>-0.009500</td>\n",
       "      <td>0.010522</td>\n",
       "      <td>-0.044776</td>\n",
       "      <td>-0.077620</td>\n",
       "      <td>0.001963</td>\n",
       "      <td>1.000000</td>\n",
       "      <td>0.032112</td>\n",
       "      <td>-0.046246</td>\n",
       "      <td>0.039136</td>\n",
       "    </tr>\n",
       "    <tr>\n",
       "      <th>Loan_Status</th>\n",
       "      <td>0.010118</td>\n",
       "      <td>-0.004710</td>\n",
       "      <td>-0.059187</td>\n",
       "      <td>-0.036416</td>\n",
       "      <td>-0.020974</td>\n",
       "      <td>0.540556</td>\n",
       "      <td>0.032112</td>\n",
       "      <td>1.000000</td>\n",
       "      <td>0.007240</td>\n",
       "      <td>-0.013793</td>\n",
       "    </tr>\n",
       "    <tr>\n",
       "      <th>Total_Income</th>\n",
       "      <td>0.112812</td>\n",
       "      <td>0.717829</td>\n",
       "      <td>0.383827</td>\n",
       "      <td>0.687552</td>\n",
       "      <td>-0.055320</td>\n",
       "      <td>0.020791</td>\n",
       "      <td>-0.046246</td>\n",
       "      <td>0.007240</td>\n",
       "      <td>1.000000</td>\n",
       "      <td>0.378505</td>\n",
       "    </tr>\n",
       "    <tr>\n",
       "      <th>EMI</th>\n",
       "      <td>0.103058</td>\n",
       "      <td>0.320433</td>\n",
       "      <td>0.135761</td>\n",
       "      <td>0.491172</td>\n",
       "      <td>-0.500000</td>\n",
       "      <td>0.014440</td>\n",
       "      <td>0.039136</td>\n",
       "      <td>-0.013793</td>\n",
       "      <td>0.378505</td>\n",
       "      <td>1.000000</td>\n",
       "    </tr>\n",
       "  </tbody>\n",
       "</table>\n",
       "</div>"
      ],
      "text/plain": [
       "                   Dependents  ApplicantIncome  CoapplicantIncome  LoanAmount  \\\n",
       "Dependents           1.000000         0.118202           0.030430    0.163106   \n",
       "ApplicantIncome      0.118202         1.000000          -0.116605    0.565620   \n",
       "CoapplicantIncome    0.030430        -0.116605           1.000000    0.187828   \n",
       "LoanAmount           0.163106         0.565620           0.187828    1.000000   \n",
       "Loan_Amount_Term    -0.101054        -0.045242          -0.059675    0.038801   \n",
       "Credit_History      -0.040160        -0.018615           0.011134   -0.001431   \n",
       "Property_Area       -0.000244        -0.009500           0.010522   -0.044776   \n",
       "Loan_Status          0.010118        -0.004710          -0.059187   -0.036416   \n",
       "Total_Income         0.112812         0.717829           0.383827    0.687552   \n",
       "EMI                  0.103058         0.320433           0.135761    0.491172   \n",
       "\n",
       "                   Loan_Amount_Term  Credit_History  Property_Area  \\\n",
       "Dependents                -0.101054       -0.040160      -0.000244   \n",
       "ApplicantIncome           -0.045242       -0.018615      -0.009500   \n",
       "CoapplicantIncome         -0.059675        0.011134       0.010522   \n",
       "LoanAmount                 0.038801       -0.001431      -0.044776   \n",
       "Loan_Amount_Term           1.000000        0.000432      -0.077620   \n",
       "Credit_History             0.000432        1.000000       0.001963   \n",
       "Property_Area             -0.077620        0.001963       1.000000   \n",
       "Loan_Status               -0.020974        0.540556       0.032112   \n",
       "Total_Income              -0.055320        0.020791      -0.046246   \n",
       "EMI                       -0.500000        0.014440       0.039136   \n",
       "\n",
       "                   Loan_Status  Total_Income       EMI  \n",
       "Dependents            0.010118      0.112812  0.103058  \n",
       "ApplicantIncome      -0.004710      0.717829  0.320433  \n",
       "CoapplicantIncome    -0.059187      0.383827  0.135761  \n",
       "LoanAmount           -0.036416      0.687552  0.491172  \n",
       "Loan_Amount_Term     -0.020974     -0.055320 -0.500000  \n",
       "Credit_History        0.540556      0.020791  0.014440  \n",
       "Property_Area         0.032112     -0.046246  0.039136  \n",
       "Loan_Status           1.000000      0.007240 -0.013793  \n",
       "Total_Income          0.007240      1.000000  0.378505  \n",
       "EMI                  -0.013793      0.378505  1.000000  "
      ]
     },
     "execution_count": 26,
     "metadata": {},
     "output_type": "execute_result"
    }
   ],
   "source": [
    "df_train.corr()"
   ]
  },
  {
   "cell_type": "code",
   "execution_count": null,
   "id": "9982fc0d",
   "metadata": {},
   "outputs": [],
   "source": []
  },
  {
   "cell_type": "code",
   "execution_count": 27,
   "id": "082e1ada",
   "metadata": {},
   "outputs": [],
   "source": [
    "# df_train['ApplicantIncome'] = np.log(df_train['ApplicantIncome'])\n",
    "# df_train['CoapplicantIncome'] = np.log(1.000001+ df_train['CoapplicantIncome'])\n",
    "# df_train['LoanAmount'] = np.log(1.000001+df_train['LoanAmount'])"
   ]
  },
  {
   "cell_type": "code",
   "execution_count": 28,
   "id": "aad34e9c",
   "metadata": {},
   "outputs": [],
   "source": [
    "# df_test['ApplicantIncome'] = np.log(df_test['ApplicantIncome'])\n",
    "# df_test['CoapplicantIncome'] = np.log(1.000001+ df_test['CoapplicantIncome'])\n",
    "# df_test['LoanAmount'] = np.log(1.000001+df_test['LoanAmount'])"
   ]
  },
  {
   "cell_type": "code",
   "execution_count": 29,
   "id": "1d57c442",
   "metadata": {},
   "outputs": [],
   "source": [
    "#df_train[num_features].hist(bins=15,figsize=(15,6),layout=(2,3))"
   ]
  },
  {
   "cell_type": "code",
   "execution_count": 30,
   "id": "413db9cd",
   "metadata": {},
   "outputs": [],
   "source": [
    "# fig, ax = plt.subplots(2, 3, figsize=(16, 10))\n",
    "# for variable, subplot in zip(cat_features, ax.flatten()):\n",
    "#     sns.countplot(df_train['Credit_History'],hue = df_train[variable],ax=subplot)"
   ]
  },
  {
   "cell_type": "code",
   "execution_count": 31,
   "id": "52297770",
   "metadata": {},
   "outputs": [],
   "source": [
    "# fig, ax = plt.subplots(2, 3, figsize=(15, 10))\n",
    "# for variable, subplot in zip(cat_features, ax.flatten()):\n",
    "#     sns.countplot(df_train[variable], ax=subplot)\n",
    "#     for label in subplot.get_xticklabels():\n",
    "#         label.set_rotation(90)"
   ]
  },
  {
   "cell_type": "code",
   "execution_count": 32,
   "id": "8259c368",
   "metadata": {},
   "outputs": [],
   "source": [
    "# for num_var in num_features:\n",
    "#     fig, ax = plt.subplots(2, 3, figsize=(16, 10))\n",
    "#     for variable, subplot in zip(cat_features, ax.flatten()):\n",
    "#         sns.boxplot(x=variable, y= num_var,data=df_train, ax=subplot)"
   ]
  },
  {
   "cell_type": "code",
   "execution_count": 33,
   "id": "58e6615b",
   "metadata": {},
   "outputs": [],
   "source": [
    "#sns.scatterplot(x=df_train['Credit_History'],y=df_train['LoanAmount'])"
   ]
  },
  {
   "cell_type": "code",
   "execution_count": 34,
   "id": "8e4cac81",
   "metadata": {},
   "outputs": [],
   "source": [
    "#sns.pairplot(df_train)"
   ]
  },
  {
   "cell_type": "code",
   "execution_count": 35,
   "id": "b9ec93f7",
   "metadata": {},
   "outputs": [],
   "source": [
    "X= df_train.drop(['Loan_Status','Loan_ID','Education','Married','Self_Employed','Gender','ApplicantIncome',\n",
    " 'CoapplicantIncome',\n",
    " 'LoanAmount',\n",
    " 'Loan_Amount_Term'],axis=1)\n",
    "y= df_train['Loan_Status']\n",
    "df_test_x = df_test.drop(['Loan_ID','Education','Married','Self_Employed','Gender','ApplicantIncome',\n",
    " 'CoapplicantIncome',\n",
    " 'LoanAmount',\n",
    " 'Loan_Amount_Term'],axis=1)\n",
    "#print(X,Y)"
   ]
  },
  {
   "cell_type": "code",
   "execution_count": 36,
   "id": "1899f12e",
   "metadata": {},
   "outputs": [],
   "source": [
    "from sklearn.model_selection import train_test_split\n",
    "X_train, X_test, y_train, y_test = train_test_split(X, y, test_size = 0.15, random_state = 0)"
   ]
  },
  {
   "cell_type": "code",
   "execution_count": 37,
   "id": "0990ec1c",
   "metadata": {},
   "outputs": [],
   "source": [
    "# from sklearn.linear_model import LogisticRegression\n",
    "# classifier = LogisticRegression(random_state = 0)\n",
    "# classifier.fit(X_train, y_train)"
   ]
  },
  {
   "cell_type": "code",
   "execution_count": 38,
   "id": "fa113384",
   "metadata": {},
   "outputs": [],
   "source": [
    "# from sklearn.linear_model import RidgeClassifier\n",
    "# classifier = RidgeClassifier(random_state = 0)\n",
    "# classifier.fit(X_train, y_train)"
   ]
  },
  {
   "cell_type": "code",
   "execution_count": 39,
   "id": "e5c40c71",
   "metadata": {
    "scrolled": true
   },
   "outputs": [],
   "source": [
    "# from sklearn.svm import SVC\n",
    "# classifier = SVC(kernel = 'rbf', random_state = 0)\n",
    "# classifier.fit(X_train, y_train)"
   ]
  },
  {
   "cell_type": "code",
   "execution_count": 40,
   "id": "264d4ed1",
   "metadata": {},
   "outputs": [],
   "source": [
    "# from sklearn.ensemble import GradientBoostingClassifier\n",
    "# classifier = GradientBoostingClassifier(n_estimators = 100,max_features='auto',max_depth=1,min_samples_leaf=5,min_samples_split=5)\n",
    "# # fit the model with the training data\n",
    "# classifier.fit(X_train, y_train)"
   ]
  },
  {
   "cell_type": "code",
   "execution_count": 41,
   "id": "5707ff91",
   "metadata": {},
   "outputs": [
    {
     "data": {
      "text/plain": [
       "RandomForestClassifier(criterion='entropy', max_depth=2, max_features='sqrt',\n",
       "                       min_samples_split=5, n_estimators=1500, random_state=0)"
      ]
     },
     "execution_count": 41,
     "metadata": {},
     "output_type": "execute_result"
    }
   ],
   "source": [
    "from sklearn.ensemble import RandomForestClassifier\n",
    "classifier = RandomForestClassifier(n_estimators = 1500,max_features='sqrt',max_depth=2,min_samples_split=5, criterion = 'entropy', random_state = 0)\n",
    "classifier.fit(X_train, y_train)"
   ]
  },
  {
   "cell_type": "code",
   "execution_count": 42,
   "id": "98f35801",
   "metadata": {},
   "outputs": [],
   "source": [
    "# from catboost import CatBoostClassifier\n",
    "# classifier = CatBoostClassifier()\n",
    "# classifier.fit(X_train, y_train, ['Dependents','Property_Area'])"
   ]
  },
  {
   "cell_type": "code",
   "execution_count": 43,
   "id": "733580d6",
   "metadata": {},
   "outputs": [],
   "source": [
    "# pd.DataFrame({'feature_importance': classifier.get_feature_importance(), \n",
    "#               'feature_names': X_train.columns}).sort_values(by=['feature_importance'], \n",
    "#                                                            ascending=False)"
   ]
  },
  {
   "cell_type": "code",
   "execution_count": 44,
   "id": "755f6303",
   "metadata": {},
   "outputs": [],
   "source": [
    "y_pred = classifier.predict(X_test)"
   ]
  },
  {
   "cell_type": "code",
   "execution_count": 45,
   "id": "d2dc9c2e",
   "metadata": {},
   "outputs": [
    {
     "name": "stdout",
     "output_type": "stream",
     "text": [
      "[[10 15]\n",
      " [ 1 67]]\n"
     ]
    },
    {
     "data": {
      "text/plain": [
       "0.8279569892473119"
      ]
     },
     "execution_count": 45,
     "metadata": {},
     "output_type": "execute_result"
    }
   ],
   "source": [
    "from sklearn.metrics import confusion_matrix, accuracy_score, f1_score, classification_report\n",
    "cm = confusion_matrix(y_test, y_pred)\n",
    "print(cm)\n",
    "accuracy_score(y_test, y_pred)"
   ]
  },
  {
   "cell_type": "code",
   "execution_count": 46,
   "id": "de5914bc",
   "metadata": {},
   "outputs": [
    {
     "data": {
      "text/plain": [
       "0.8080614203454894"
      ]
     },
     "execution_count": 46,
     "metadata": {},
     "output_type": "execute_result"
    }
   ],
   "source": [
    "accuracy_score(y_train,classifier.predict(X_train))"
   ]
  },
  {
   "cell_type": "code",
   "execution_count": null,
   "id": "2c732029",
   "metadata": {},
   "outputs": [],
   "source": []
  },
  {
   "cell_type": "code",
   "execution_count": 47,
   "id": "4a3d53c5",
   "metadata": {},
   "outputs": [],
   "source": [
    "Y_pre = classifier.predict(df_test.iloc[:,[3,10,11,12,13]])"
   ]
  },
  {
   "cell_type": "code",
   "execution_count": 48,
   "id": "0fee6795",
   "metadata": {},
   "outputs": [],
   "source": [
    "Y_pred = classifier.predict(df_test_x)"
   ]
  },
  {
   "cell_type": "code",
   "execution_count": null,
   "id": "6c60cfe6",
   "metadata": {},
   "outputs": [],
   "source": []
  },
  {
   "cell_type": "code",
   "execution_count": 49,
   "id": "cfaba039",
   "metadata": {},
   "outputs": [
    {
     "name": "stdout",
     "output_type": "stream",
     "text": [
      "<class 'numpy.int32'>\n"
     ]
    }
   ],
   "source": [
    "print(type(Y_pre[0]))\n",
    "#print(type(Y_pred[0][0]))"
   ]
  },
  {
   "cell_type": "code",
   "execution_count": 50,
   "id": "169395b1",
   "metadata": {},
   "outputs": [
    {
     "data": {
      "text/plain": [
       "<AxesSubplot:ylabel='count'>"
      ]
     },
     "execution_count": 50,
     "metadata": {},
     "output_type": "execute_result"
    },
    {
     "data": {
      "image/png": "[encoded data removed]",
      "text/plain": [
       "<Figure size 432x288 with 1 Axes>"
      ]
     },
     "metadata": {
      "needs_background": "light"
     },
     "output_type": "display_data"
    }
   ],
   "source": [
    "sns.countplot(Y_pred)"
   ]
  },
  {
   "cell_type": "code",
   "execution_count": 51,
   "id": "766c99c4",
   "metadata": {},
   "outputs": [
    {
     "name": "stdout",
     "output_type": "stream",
     "text": [
      "(367,)\n"
     ]
    }
   ],
   "source": [
    "Y_pre = np.reshape(Y_pred,(-1,1))\n",
    "print(Y_pred.shape)"
   ]
  },
  {
   "cell_type": "code",
   "execution_count": 52,
   "id": "248cc93d",
   "metadata": {},
   "outputs": [
    {
     "name": "stdout",
     "output_type": "stream",
     "text": [
      "      Loan_ID Loan_Status\n",
      "0    LP001015           Y\n",
      "1    LP001022           Y\n",
      "2    LP001031           Y\n",
      "3    LP001035           Y\n",
      "4    LP001051           Y\n",
      "..        ...         ...\n",
      "362  LP002971           Y\n",
      "363  LP002975           Y\n",
      "364  LP002980           Y\n",
      "365  LP002986           Y\n",
      "366  LP002989           Y\n",
      "\n",
      "[367 rows x 2 columns]\n"
     ]
    }
   ],
   "source": [
    "numpy_array = np.concatenate((df_test.iloc[:,[0]].values,Y_pre),axis=1)\n",
    "df2 = pd.DataFrame(numpy_array, columns =['Loan_ID','Loan_Status'])\n",
    "df2['Loan_Status'] = df2['Loan_Status'].replace(1,'Y')\n",
    "df2['Loan_Status'] = df2['Loan_Status'].replace(0,'N')\n",
    "df2.to_csv('Output_loan1.csv',index=False)\n",
    "print(df2)"
   ]
  },
  {
   "cell_type": "code",
   "execution_count": null,
   "id": "347da2b7",
   "metadata": {},
   "outputs": [],
   "source": []
  }
 ],
 "metadata": {
  "kernelspec": {
   "display_name": "Python 3",
   "language": "python",
   "name": "python3"
  },
  "language_info": {
   "codemirror_mode": {
    "name": "ipython",
    "version": 3
   },
   "file_extension": ".py",
   "mimetype": "text/x-python",
   "name": "python",
   "nbconvert_exporter": "python",
   "pygments_lexer": "ipython3",
   "version": "3.8.8"
  }
 },
 "nbformat": 4,
 "nbformat_minor": 5
}
